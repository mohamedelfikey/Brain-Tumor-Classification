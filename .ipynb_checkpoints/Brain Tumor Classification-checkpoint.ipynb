{
 "cells": [
  {
   "cell_type": "markdown",
   "id": "7439d9df",
   "metadata": {},
   "source": [
    "# Brain Tumor Classification"
   ]
  },
  {
   "cell_type": "markdown",
   "id": "f1ea9e15",
   "metadata": {},
   "source": [
    "### What is a brain tumor?\n",
    "##### A brain tumor is a collection, or mass, of abnormal cells in your brain. Your skull, which encloses your brain, is very rigid. Any growth inside such a restricted space can cause problems. Brain tumors can be cancerous (malignant) or noncancerous (benign). When benign or malignant tumors grow, they can cause the pressure inside your skull to increase. This can cause brain damage, and it can be life-threatening."
   ]
  },
  {
   "cell_type": "markdown",
   "id": "a61bfa48",
   "metadata": {},
   "source": [
    "### The importance of the subject\n",
    "##### Early detection and classification of brain tumors is an important research domain in the field of medical imaging and accordingly helps in selecting the most convenient treatment method to save patients life therefore."
   ]
  },
  {
   "cell_type": "markdown",
   "id": "476ad60d",
   "metadata": {},
   "source": [
    "### Methods\n",
    "##### The application of deep learning approaches in context to improve health diagnosis is providing impactful solutions. According to the World Health Organization (WHO), proper brain tumor diagnosis involves detection, brain tumor location identification, and classification of the tumor on the basis of malignancy, grade, and type. This experimental work in the diagnosis of brain tumors using Magnetic Resonance Imaging (MRI) involves detecting the tumor, classifying the tumor in terms of grade, type, and identification of tumor location. This method has experimented in terms of utilizing one model for classifying brain MRI on different classification tasks rather than an individual model for each classification task. The Convolutional Neural Network (CNN) based multi-task classification is equipped for the classification and detection of tumors. The identification of brain tumor location is also done using a CNN-based model by segmenting the brain tumor."
   ]
  },
  {
   "cell_type": "code",
   "execution_count": 1,
   "id": "539bbc7f",
   "metadata": {},
   "outputs": [],
   "source": [
    "# Import important libraries and load data\n",
    "import os\n",
    "import cv2 "
   ]
  },
  {
   "cell_type": "code",
   "execution_count": 2,
   "id": "613fb124",
   "metadata": {},
   "outputs": [],
   "source": [
    "# read train and test path \n",
    "train_dir=r\"C:\\Users\\elfik\\Desktop\\coding\\NTI\\projects\\deep learning and machne learning tasks\\Brain Tumor Classification\\DataSet\\Training\"\n",
    "test_dir=r\"C:\\Users\\elfik\\Desktop\\coding\\NTI\\projects\\deep learning and machne learning tasks\\Brain Tumor Classification\\DataSet\\Testing\""
   ]
  },
  {
   "cell_type": "code",
   "execution_count": 3,
   "id": "ac25b729",
   "metadata": {},
   "outputs": [],
   "source": [
    "# read images and assign label to each image for training\n",
    "training_data=[]\n",
    "categories=['glioma','meningioma','notumor','pituitary']\n",
    "for category in categories:\n",
    "    img_path=os.path.join(train_dir,category)\n",
    "    class_name=categories.index(category)\n",
    "    for img in os.listdir(img_path):\n",
    "        img_array=cv2.imread(os.path.join(img_path,img))\n",
    "        new_array=cv2.resize(img_array,(50,50))\n",
    "        training_data.append([new_array,class_name])"
   ]
  },
  {
   "cell_type": "code",
   "execution_count": 4,
   "id": "262018e7",
   "metadata": {},
   "outputs": [],
   "source": [
    "# read images and assign label to each image for testing\n",
    "testing_data=[]\n",
    "for category in categories:\n",
    "    img_path=os.path.join(test_dir,category)\n",
    "    class_name=categories.index(category)\n",
    "    for img in os.listdir(img_path):\n",
    "        img_array=cv2.imread(os.path.join(img_path,img))\n",
    "        new_array=cv2.resize(img_array,(50,50))\n",
    "        testing_data.append([new_array,class_name])"
   ]
  },
  {
   "cell_type": "code",
   "execution_count": 5,
   "id": "c74ee319",
   "metadata": {},
   "outputs": [],
   "source": [
    "# split training data and testing data to features and labels (x,y) \n",
    "x_train=[]\n",
    "y_train=[]\n",
    "x_test=[]\n",
    "y_test=[]\n",
    "\n",
    "for i,j in training_data:\n",
    "    x_train.append(i)\n",
    "    y_train.append(j)\n",
    "    \n",
    "for i,j in testing_data:\n",
    "    x_test.append(i)\n",
    "    y_test.append(j)\n",
    "    \n",
    "from keras.utils import to_categorical \n",
    "y_train = to_categorical(y_train, num_classes=4) \n",
    "y_test = to_categorical(y_test, num_classes=4) "
   ]
  },
  {
   "cell_type": "code",
   "execution_count": 6,
   "id": "b984e774",
   "metadata": {},
   "outputs": [],
   "source": [
    "# reshape x_tain,y_train,x_test,y_test to shape of img\n",
    "import numpy as np\n",
    "x_train=np.array(x_train).reshape(-1,50,50,3)\n",
    "y_train=np.array(y_train)\n",
    "x_test=np.array(x_test).reshape(-1,50,50,3)\n",
    "y_test=np.array(y_test)"
   ]
  },
  {
   "cell_type": "code",
   "execution_count": 7,
   "id": "c25ca047",
   "metadata": {},
   "outputs": [
    {
     "name": "stdout",
     "output_type": "stream",
     "text": [
      "(5712, 7500)\n",
      "(1311, 7500)\n"
     ]
    }
   ],
   "source": [
    "x_train=x_train.astype('float32')/255\n",
    "x_test=x_test.astype('float32')/255\n",
    "x_train=x_train.reshape(len(x_train),np.prod(x_train.shape[1:]))\n",
    "x_test=x_test.reshape(len(x_test),np.prod(x_test.shape[1:]))\n",
    "print(x_train.shape)\n",
    "print (x_test.shape)"
   ]
  },
  {
   "cell_type": "code",
   "execution_count": 8,
   "id": "38169be6",
   "metadata": {},
   "outputs": [
    {
     "name": "stdout",
     "output_type": "stream",
     "text": [
      "Epoch 1/5\n",
      "23/23 [==============================] - 487s 21s/step - loss: 1.3215 - accuracy: 0.3335\n",
      "Epoch 2/5\n",
      "23/23 [==============================] - 471s 20s/step - loss: 1.0694 - accuracy: 0.4827\n",
      "Epoch 3/5\n",
      "23/23 [==============================] - 474s 21s/step - loss: 1.0313 - accuracy: 0.4947\n",
      "Epoch 4/5\n",
      "23/23 [==============================] - 475s 21s/step - loss: 0.8710 - accuracy: 0.6346\n",
      "Epoch 5/5\n",
      "23/23 [==============================] - 479s 21s/step - loss: 0.7172 - accuracy: 0.7358\n"
     ]
    }
   ],
   "source": [
    "# build autoencoder\n",
    "import keras\n",
    "from keras import layers ,Input\n",
    "import tensorflow\n",
    "\n",
    "encoding_dim=32\n",
    "\n",
    "# encoder\n",
    "input_image=Input (shape=(7500,))\n",
    "l1=layers.Dense(1176,activation='relu')(input_image)\n",
    "l2=layers.Dense(588,activation='relu')(l1)\n",
    "l3=layers.Dense(294,activation='relu')(l2)\n",
    "l4=layers.Dense(147,activation='relu')(l3)\n",
    "\n",
    "encoded=layers.Dense(encoding_dim,activation='relu')(l4) # bootle neck\n",
    "\n",
    "# decoder\n",
    "l5=layers.Dense(147,activation='relu')(encoded)\n",
    "l6=layers.Dense(294,activation='relu')(l5)\n",
    "l7=layers.Dense(588,activation='relu')(l6)\n",
    "l8=layers.Dense(1176,activation='relu')(l7)\n",
    "decoded=layers.Dense(7500,activation='sigmoid')(l7)\n",
    "\n",
    "# ResNet 152\n",
    "decoded_reshaped = layers.Reshape((50,50,3))(decoded)\n",
    "resnet_model = tensorflow.keras.applications.ResNet152(include_top=False, weights='imagenet', pooling='avg')\n",
    "resnet_model.trainable = False\n",
    "resnet_output = resnet_model(decoded_reshaped)\n",
    "# Reshape again\n",
    "resnet_output= layers.Reshape((1,1,2048))(resnet_output)\n",
    "\n",
    "\n",
    "# CNN\n",
    "cnn_input = resnet_output\n",
    "c1= layers.Conv2D(filters=128,kernel_size=(3,3),strides=(1,1),padding='same',\n",
    "                  activation='relu',input_shape=(50,50,3))(cnn_input)\n",
    "# c2= layers.MaxPooling2D((2, 2))(c1)\n",
    "c3= layers.Conv2D(64, (3, 3), activation='relu', padding='same')(c1)\n",
    "c4= layers.Flatten()(c3)\n",
    "c5= layers.Dense(64, activation='relu')(c4)\n",
    "cnn_output = layers.Dense(4, activation='softmax')(c5)\n",
    "\n",
    "classifier = keras.Model(input_image, cnn_output)\n",
    "\n",
    "classifier.compile(loss='categorical_crossentropy', optimizer='adam', metrics=['accuracy'])\n",
    "\n",
    "history=classifier.fit(x_train, y_train, epochs=5, batch_size=256)"
   ]
  },
  {
   "cell_type": "code",
   "execution_count": 9,
   "id": "d6d37cef",
   "metadata": {},
   "outputs": [
    {
     "name": "stdout",
     "output_type": "stream",
     "text": [
      "The average of the accuracy is 0.5362745106220246\n",
      "The average of the loss is 1.0020705699920653\n"
     ]
    }
   ],
   "source": [
    "# Create empty lists to store the output\n",
    "loss_list = []\n",
    "accuracy_list = []\n",
    "\n",
    "# Loop through the history dictionary and append the values to the lists\n",
    "for key, value in history.history.items():\n",
    "  if key == 'loss':\n",
    "    loss_list.extend(value)\n",
    "  elif key == 'accuracy':\n",
    "    accuracy_list.extend(value)\n",
    "\n",
    "avg_acc=np.average(accuracy_list)\n",
    "avg_loss=np.average(loss_list)\n",
    "print(\"The average of the accuracy is\", avg_acc)\n",
    "print(\"The average of the loss is\", avg_loss)"
   ]
  }
 ],
 "metadata": {
  "kernelspec": {
   "display_name": "Python 3 (ipykernel)",
   "language": "python",
   "name": "python3"
  },
  "language_info": {
   "codemirror_mode": {
    "name": "ipython",
    "version": 3
   },
   "file_extension": ".py",
   "mimetype": "text/x-python",
   "name": "python",
   "nbconvert_exporter": "python",
   "pygments_lexer": "ipython3",
   "version": "3.10.13"
  }
 },
 "nbformat": 4,
 "nbformat_minor": 5
}
